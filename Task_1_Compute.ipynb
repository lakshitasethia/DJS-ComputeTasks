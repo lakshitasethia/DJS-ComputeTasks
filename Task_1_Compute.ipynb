{
  "nbformat": 4,
  "nbformat_minor": 0,
  "metadata": {
    "colab": {
      "provenance": []
    },
    "kernelspec": {
      "name": "python3",
      "display_name": "Python 3"
    },
    "language_info": {
      "name": "python"
    }
  },
  "cells": [
    {
      "cell_type": "markdown",
      "source": [
        "**General Instructions:**\n",
        "\n",
        "*   Please make a copy of this colab notebook in your own drive and solve the questions in the copy. Do not edit the original file.\n",
        "\n",
        "*   All participants are encouraged to learn the basics of python including data types, operators, loops, conditional statements, handling user-defined input, strings, string methods, lists, list comprehension, sets, tuples, dictionaries and basic object-oriented programming concepts before coming to the interview.\n",
        "\n",
        "Beginners unfamiliar with Python are advised to watch the following tutorial before beginning Task 1.\n",
        "\n",
        "**Python Tutorial:** https://youtu.be/yVl_G-F7m8c?si=nEaJMo7Gqk-tQay1\n",
        "\n",
        "\n",
        "\n",
        "**Note:** The expected output is given in the cells below the question.\n"
      ],
      "metadata": {
        "id": "PiZZfxvj57LK"
      }
    },
    {
      "cell_type": "markdown",
      "source": [
        "# Task 1 - Basics of Python\n",
        "\n",
        "\n",
        "\n",
        "> It is the year 3032. After a year of brutal resistance, humanity has managed to slow down the alien invaders. However, the war is far from over. The aliens have begun using more sophisticated tactics, infiltrating human networks, and sabotaging supply lines. You have been recruited by the Resistance as their lead programmer, tasked with writing small but powerful scripts to help humanity survive.\n",
        "\n",
        "Your missions will range from secure communication, data cleansing, and resource tracking to infiltrator detection and digital security. Each problem you solve brings the Resistance one step closer to victory.\n",
        "\n",
        "\n",
        "\n",
        "\n"
      ],
      "metadata": {
        "id": "FgdtUgoiauGY"
      }
    },
    {
      "cell_type": "markdown",
      "source": [
        "**Question 1:**\n",
        "The alien invaders have begun intercepting resistance transmissions. To counter this, the rebels have adopted a simple text-based encryption method:\n",
        "\n",
        "Every alternate word in a sentence is reversed.\n",
        "\n",
        "The first word stays as it is, the second is reversed, the third stays as it is, the fourth is reversed, and so on.\n",
        "\n",
        "eg:\n",
        "Input: \"We strike at dawn tomorrow\"\n",
        "Output: \"We ekirts at nwad tomorrow\"\n",
        "\n",
        "Write a function encrypt_message(message) that takes in a sentence and returns the encrypted version."
      ],
      "metadata": {
        "id": "jk_UOVbvcfJb"
      }
    },
    {
      "cell_type": "code",
      "execution_count": null,
      "metadata": {
        "id": "LmwLUF-kahv0"
      },
      "outputs": [],
      "source": [
        "message = \"The aliens will target the food stores first\""
      ]
    },
    {
      "cell_type": "code",
      "source": [
        "# your code here\n",
        "def encrypt_message(message):\n",
        "    \"\"\"\n",
        "    Encrypts a message by reversing every alternate word.\n",
        "\n",
        "    Args:\n",
        "        message (str): The original message to encrypt\n",
        "\n",
        "    Returns:\n",
        "        str: The encrypted message\n",
        "    \"\"\"\n",
        "\n",
        "    # Step 1: Split the message into individual words\n",
        "    # This creates a list where each element is a word\n",
        "    words = message.split()\n",
        "\n",
        "    # Step 2: Create an empty list to store our encrypted words\n",
        "    encrypted_words = []\n",
        "\n",
        "    # Step 3: Loop through each word with its position (index)\n",
        "    # enumerate() gives us both the index (position) and the word itself\n",
        "    for index, word in enumerate(words):\n",
        "\n",
        "        # Step 4: Check if this word should be reversed\n",
        "        # Index starts at 0, so:\n",
        "        # - Index 0 (1st word): 0 % 2 = 0 (even) → keep as is\n",
        "        # - Index 1 (2nd word): 1 % 2 = 1 (odd) → reverse it\n",
        "        # - Index 2 (3rd word): 2 % 2 = 0 (even) → keep as is\n",
        "        # - Index 3 (4th word): 3 % 2 = 1 (odd) → reverse it\n",
        "        if index % 2 == 1:  # If index is odd (2nd, 4th, 6th word, etc.)\n",
        "            # Reverse the word using slicing [::-1]\n",
        "            # [::-1] means \"take all characters but in reverse order\"\n",
        "            reversed_word = word[::-1]\n",
        "            encrypted_words.append(reversed_word)\n",
        "        else:  # If index is even (1st, 3rd, 5th word, etc.)\n",
        "            # Keep the word as it is\n",
        "            encrypted_words.append(word)\n",
        "\n",
        "    # Step 5: Join all the words back together with spaces\n",
        "    # This combines our list back into a single string\n",
        "    encrypted_message = \" \".join(encrypted_words)\n",
        "\n",
        "    return encrypted_message\n",
        "\n",
        "\n",
        "# Test the function with the given example\n",
        "message = \"The aliens will target the food stores first\"\n",
        "encrypted = encrypt_message(message)\n",
        "\n",
        "print(\"Original message:\", message)\n",
        "print(\"Encrypted message:\", encrypted)"
      ],
      "metadata": {
        "colab": {
          "base_uri": "https://localhost:8080/"
        },
        "id": "H3vbMHoYf5Q1",
        "outputId": "23ff914f-e7f0-48af-9ac0-3da8f462ead6"
      },
      "execution_count": null,
      "outputs": [
        {
          "output_type": "stream",
          "name": "stdout",
          "text": [
            "Original message: The aliens will target the food stores first\n",
            "Encrypted message: The sneila will tegrat the doof stores tsrif\n"
          ]
        }
      ]
    },
    {
      "cell_type": "markdown",
      "source": [
        "**Question 2:**\n",
        "The Resistance must prioritize rations for children and the elderly. Unfortunately, the refugee registration team is overwhelmed, and the age records are a mess — some are written as strings, some have accidental letters, and others are fine.\n",
        "\n",
        "Your job is to write a function clean_and_sort_ages(data) that:\n",
        "1. Removes invalid entries (anything that isn’t purely digits).\n",
        "\n",
        "2. Converts valid entries into integers.\n",
        "\n",
        "3. Returns a clean, sorted list of ages in ascending order."
      ],
      "metadata": {
        "id": "gezvSe3_hgoU"
      }
    },
    {
      "cell_type": "code",
      "source": [
        "data = [\"23\", \"17\", \"thirty\", \"45\", \"19a\", \"31\", \"20\", \"twenty_seven\", \"25c\"]"
      ],
      "metadata": {
        "id": "xqobzAhOunhf"
      },
      "execution_count": null,
      "outputs": []
    },
    {
      "cell_type": "code",
      "source": [
        "# your code here\n",
        "def clean_and_sort_ages(data):\n",
        "    \"\"\"\n",
        "    Cleans messy age data and returns a sorted list of valid ages.\n",
        "\n",
        "    Args:\n",
        "        data (list): List of age entries (strings with mixed validity)\n",
        "\n",
        "    Returns:\n",
        "        list: Clean, sorted list of ages as integers\n",
        "    \"\"\"\n",
        "\n",
        "    # Step 1: Create an empty list to store valid ages\n",
        "    clean_ages = []\n",
        "\n",
        "    print(\"--- Data Cleaning Process ---\")\n",
        "\n",
        "    # Step 2: Loop through each entry in the data\n",
        "    for entry in data:\n",
        "\n",
        "        # Step 3: Check if the entry contains only digits\n",
        "        # .isdigit() returns True only if ALL characters are digits (0-9)\n",
        "        # This automatically handles: letters, spaces, special characters, etc.\n",
        "        if entry.isdigit():\n",
        "\n",
        "            # Step 4: Convert the valid string to an integer\n",
        "            age = int(entry)\n",
        "\n",
        "            # Step 5: Add it to our clean list\n",
        "            clean_ages.append(age)\n",
        "\n",
        "            # print(f\"✓ '{entry}' → {age} (valid)\")\n",
        "        # else:\n",
        "        #     # Entry contains non-digit characters, so we reject it\n",
        "        #     print(f\"✗ '{entry}' → rejected (contains non-digits)\")\n",
        "\n",
        "    # Step 6: Sort the clean ages in ascending order\n",
        "    # .sort() modifies the list in place (changes the original list)\n",
        "    # We could also use sorted(clean_ages) which returns a new sorted list\n",
        "    clean_ages.sort()\n",
        "\n",
        "    # print(f\"\\n--- Final Result ---\")\n",
        "    # print(f\"Original entries: {len(data)}\")\n",
        "    # print(f\"Valid ages found: {len(clean_ages)}\")\n",
        "    print(f\"Sorted ages: {clean_ages}\")\n",
        "\n",
        "    return clean_ages\n",
        "\n",
        "\n",
        "# Test with the refugee data\n",
        "data = [\"23\", \"17\", \"thirty\", \"45\", \"19a\", \"31\", \"20\", \"twenty_seven\", \"25c\"]\n",
        "\n",
        "# print(\"RESISTANCE MISSION: Cleaning refugee age data for ration prioritization\")\n",
        "# print(\"=\" * 60)\n",
        "# print(f\"Raw data received: {data}\")\n",
        "print()\n",
        "\n",
        "# Clean and sort the data\n",
        "sorted_ages = clean_and_sort_ages(data)\n",
        "\n",
        "print()\n",
        "# print(\"MISSION STATUS: SUCCESS! ✓\")\n",
        "print(f\"Clean ages ready for ration prioritization: {sorted_ages}\")\n",
        "\n",
        "# Bonus: Let's show how this helps with prioritization\n",
        "# print(\"\\n--- Ration Prioritization Analysis ---\")\n",
        "# children = [age for age in sorted_ages if age < 18]\n",
        "# elderly = [age for age in sorted_ages if age >= 65]\n",
        "# adults = [age for age in sorted_ages if 18 <= age < 65]\n",
        "\n",
        "# print(f\"Children (priority 1): {children} → {len(children)} people\")\n",
        "# print(f\"Elderly (priority 1): {elderly} → {len(elderly)} people\")\n",
        "# print(f\"Adults (priority 2): {adults} → {len(adults)} people\")"
      ],
      "metadata": {
        "colab": {
          "base_uri": "https://localhost:8080/"
        },
        "id": "ZHWkgegKvpgZ",
        "outputId": "88e6b96b-fc5e-4359-9e4c-4f38cf5ccac4"
      },
      "execution_count": null,
      "outputs": [
        {
          "output_type": "stream",
          "name": "stdout",
          "text": [
            "\n",
            "--- Data Cleaning Process ---\n",
            "Sorted ages: [17, 20, 23, 31, 45]\n",
            "\n",
            "Clean ages ready for ration prioritization: [17, 20, 23, 31, 45]\n"
          ]
        }
      ]
    },
    {
      "cell_type": "markdown",
      "source": [
        "**Question 3:** Supply crates are dropped at night by allied aircraft, but due to enemy fire, crates often scatter and the Resistance ends up with piles of mixed supplies. Each crate is labeled with a code:\n",
        "\n",
        " - \"MED-###\" for medical supplies\n",
        "\n",
        " - \"FOOD-###\" for food\n",
        "\n",
        " - \"WPN-###\" for weapons\n",
        "\n",
        "Write a function count_supplies(supplies) that counts how many of each type the rebels have."
      ],
      "metadata": {
        "id": "coC9Sbqd0bq0"
      }
    },
    {
      "cell_type": "code",
      "source": [
        "supplies = [\"MED-234\", \"FOOD-789\", \"WPN-101\", \"MED-456\", \"FOOD-321\"]"
      ],
      "metadata": {
        "id": "sj5NUmpdYPDF"
      },
      "execution_count": null,
      "outputs": []
    },
    {
      "cell_type": "code",
      "source": [
        "# your code here\n",
        "def count_supplies(supplies):\n",
        "    \"\"\"\n",
        "    Counts different types of supplies from scattered crates.\n",
        "\n",
        "    Args:\n",
        "        supplies (list): List of supply codes like \"MED-234\", \"FOOD-789\", etc.\n",
        "\n",
        "    Returns:\n",
        "        dict: Dictionary with counts for each supply type\n",
        "    \"\"\"\n",
        "\n",
        "    # Step 1: Create counters for each supply type\n",
        "    # We'll use simple integer variables to keep track\n",
        "    med_count = 0\n",
        "    food_count = 0\n",
        "    wpn_count = 0\n",
        "\n",
        "    print(\"--- Supply Inventory Check ---\")\n",
        "\n",
        "    # Step 2: Go through each supply crate code\n",
        "    for supply in supplies:\n",
        "\n",
        "        # Step 3: Check what type of supply this is\n",
        "        # We use .startswith() to check the beginning of each code\n",
        "\n",
        "        if supply.startswith(\"MED\"):\n",
        "            med_count += 1  # Same as: med_count = med_count + 1\n",
        "            print(f\"✚ {supply} → Medical supplies\")\n",
        "\n",
        "        elif supply.startswith(\"FOOD\"):\n",
        "            food_count += 1\n",
        "            print(f\"🍞 {supply} → Food supplies\")\n",
        "\n",
        "        elif supply.startswith(\"WPN\"):\n",
        "            wpn_count += 1\n",
        "            print(f\"⚔️ {supply} → Weapons\")\n",
        "\n",
        "    # Step 4: Create a dictionary with our results\n",
        "    # A dictionary stores key-value pairs\n",
        "    result = {\n",
        "        \"MED\": med_count,\n",
        "        \"FOOD\": food_count,\n",
        "        \"WPN\": wpn_count\n",
        "    }\n",
        "\n",
        "    print(f\"\\n--- Final Inventory ---\")\n",
        "    print(f\"Medical supplies: {med_count}\")\n",
        "    print(f\"Food supplies: {food_count}\")\n",
        "    print(f\"Weapons: {wpn_count}\")\n",
        "\n",
        "    return result\n",
        "\n",
        "\n",
        "# Test with the scattered supply data\n",
        "supplies = [\"MED-234\", \"FOOD-789\", \"WPN-101\", \"MED-456\", \"FOOD-321\"]\n",
        "\n",
        "print(\"RESISTANCE MISSION: Counting scattered supply drops\")\n",
        "print(\"=\" * 50)\n",
        "print(f\"Supply codes found: {supplies}\")\n",
        "print()\n",
        "\n",
        "# Count the supplies\n",
        "inventory = count_supplies(supplies)\n",
        "\n",
        "print(f\"\\nMISSION STATUS: SUCCESS! ✓\")\n",
        "print(f\"Inventory ready: {inventory}\")"
      ],
      "metadata": {
        "colab": {
          "base_uri": "https://localhost:8080/"
        },
        "id": "aPuIzBQv2sSS",
        "outputId": "0e8d7f07-d044-4b86-fd46-c22c0cd250bc"
      },
      "execution_count": null,
      "outputs": [
        {
          "output_type": "stream",
          "name": "stdout",
          "text": [
            "RESISTANCE MISSION: Counting scattered supply drops\n",
            "==================================================\n",
            "Supply codes found: ['MED-234', 'FOOD-789', 'WPN-101', 'MED-456', 'FOOD-321']\n",
            "\n",
            "--- Supply Inventory Check ---\n",
            "✚ MED-234 → Medical supplies\n",
            "🍞 FOOD-789 → Food supplies\n",
            "⚔️ WPN-101 → Weapons\n",
            "✚ MED-456 → Medical supplies\n",
            "🍞 FOOD-321 → Food supplies\n",
            "\n",
            "--- Final Inventory ---\n",
            "Medical supplies: 2\n",
            "Food supplies: 2\n",
            "Weapons: 1\n",
            "\n",
            "MISSION STATUS: SUCCESS! ✓\n",
            "Inventory ready: {'MED': 2, 'FOOD': 2, 'WPN': 1}\n"
          ]
        }
      ]
    },
    {
      "cell_type": "markdown",
      "source": [
        "The rebel scientists have been analyzing captured alien samples. They have discovered rules that can identify whether a DNA sequence is alien or human:\n",
        "\n",
        " - Alien DNA always ends with \"XZ\"\n",
        "\n",
        " - OR contains the substring \"QW\"\n",
        "\n",
        " - OR has a total length greater than 12 characters\n",
        "\n",
        "Write a function detect_aliens(dna_list) that separates sequences into two lists: Aliens and Humans."
      ],
      "metadata": {
        "id": "6z7Wr4BD8xSA"
      }
    },
    {
      "cell_type": "code",
      "source": [
        "dna_list = [\"ATCGXZ\", \"AATGQWGG\", \"TTAGCTA\", \"GATTACAGATTACA\", \"AXGTQWGGGXZ\", \"ATTGTCTA\"]"
      ],
      "metadata": {
        "id": "xUCGsUO9-use"
      },
      "execution_count": null,
      "outputs": []
    },
    {
      "cell_type": "code",
      "source": [
        "# your code here\n",
        "def detect_aliens(dna_list):\n",
        "    \"\"\"\n",
        "    Separates DNA sequences into aliens and humans.\n",
        "    Alien DNA: ends with \"XZ\" OR contains \"QW\" OR length > 12\n",
        "    \"\"\"\n",
        "\n",
        "    # Create empty lists\n",
        "    aliens = []\n",
        "    humans = []\n",
        "\n",
        "    # Check each DNA sequence\n",
        "    for dna in dna_list:\n",
        "\n",
        "        # Check if it matches any alien rule\n",
        "        if dna.endswith(\"XZ\") or \"QW\" in dna or len(dna) > 12:\n",
        "            aliens.append(dna)\n",
        "        else:\n",
        "            humans.append(dna)\n",
        "\n",
        "    return aliens, humans\n",
        "\n",
        "\n",
        "# Test the function\n",
        "dna_list = [\"ATCGXZ\", \"AATGQWGG\", \"TTAGCTA\", \"GATTACAGATTACA\", \"AXGTQWGGGXZ\", \"ATTGTCTA\"]\n",
        "\n",
        "alien_dna, human_dna = detect_aliens(dna_list)\n",
        "\n",
        "print(\"Alien DNA:\", alien_dna)\n",
        "print(\"Human DNA:\", human_dna)"
      ],
      "metadata": {
        "colab": {
          "base_uri": "https://localhost:8080/"
        },
        "id": "y7MSDDAL_ZhT",
        "outputId": "8ce8fab7-e77a-4f56-e40f-e97af512743f"
      },
      "execution_count": null,
      "outputs": [
        {
          "output_type": "stream",
          "name": "stdout",
          "text": [
            "Alien DNA: ['ATCGXZ', 'AATGQWGG', 'GATTACAGATTACA', 'AXGTQWGGGXZ']\n",
            "Human DNA: ['TTAGCTA', 'ATTGTCTA']\n"
          ]
        }
      ]
    },
    {
      "cell_type": "code",
      "source": [],
      "metadata": {
        "id": "xQhdhYnsQCuU"
      },
      "execution_count": null,
      "outputs": []
    },
    {
      "cell_type": "markdown",
      "source": [
        "**Question 5:** The Resistance intercepted classified intelligence files about alien commanders. Each commander is represented as a dictionary:\n",
        "\n",
        "{\"name\": \"Xeron\", \"rank\": 4, \"missions\": 20}\n",
        "\n",
        "Your task is to help the rebel analysts make sense of the data:\n",
        "\n",
        "1. Write a function sort_by_missions(commanders) → sorts the list by missions in descending order.\n",
        "\n",
        "2. Write a function sort_by_rank(commanders) → sorts the list by rank in ascending order."
      ],
      "metadata": {
        "id": "hryYd_ubD2U8"
      }
    },
    {
      "cell_type": "code",
      "source": [
        "commanders = [\n",
        "    {\"name\": \"Xeron\", \"rank\": 4, \"missions\": 20},\n",
        "    {\"name\": \"Mira\", \"rank\": 2, \"missions\": 50},\n",
        "    {\"name\": \"Zara\", \"rank\": 4, \"missions\": 21},\n",
        "    {\"name\": \"Rumi\", \"rank\": 1, \"missions\": 75},\n",
        "    {\"name\": \"Larzon\", \"rank\": 5, \"missions\": 35}\n",
        "]"
      ],
      "metadata": {
        "id": "XniLIPBoGrl9"
      },
      "execution_count": null,
      "outputs": []
    },
    {
      "cell_type": "code",
      "source": [
        "# your code here\n",
        "def get_missions(commander):\n",
        "    \"\"\"Helper function to get missions from a commander.\"\"\"\n",
        "    return commander[\"missions\"]\n",
        "\n",
        "\n",
        "def get_rank(commander):\n",
        "    \"\"\"Helper function to get rank from a commander.\"\"\"\n",
        "    return commander[\"rank\"]\n",
        "\n",
        "\n",
        "def sort_by_missions(commanders):\n",
        "    \"\"\"\n",
        "    Sorts commanders by missions in descending order (highest first).\n",
        "    \"\"\"\n",
        "    return sorted(commanders, key=get_missions, reverse=True)\n",
        "\n",
        "\n",
        "def sort_by_rank(commanders):\n",
        "    \"\"\"\n",
        "    Sorts commanders by rank in ascending order (lowest first).\n",
        "    \"\"\"\n",
        "    return sorted(commanders, key=get_rank)\n",
        "\n",
        "\n",
        "# Test data - intercepted alien intelligence\n",
        "commanders = [\n",
        "    {\"name\": \"Xeron\", \"rank\": 4, \"missions\": 20},\n",
        "    {\"name\": \"Mira\", \"rank\": 2, \"missions\": 50},\n",
        "    {\"name\": \"Zara\", \"rank\": 4, \"missions\": 21},\n",
        "    {\"name\": \"Rumi\", \"rank\": 1, \"missions\": 75},\n",
        "    {\"name\": \"Larzon\", \"rank\": 5, \"missions\": 35}\n",
        "]\n",
        "\n",
        "# Sort by missions (most dangerous first)\n",
        "print(\"=== COMMANDERS BY MISSION COUNT ===\")\n",
        "by_missions = sort_by_missions(commanders)\n",
        "for commander in by_missions:\n",
        "    print(f\"{commander['name']}: {commander['missions']} missions (rank {commander['rank']})\")\n",
        "\n",
        "print(\"\\n=== COMMANDERS BY RANK ===\")\n",
        "by_rank = sort_by_rank(commanders)\n",
        "for commander in by_rank:\n",
        "    print(f\"{commander['name']}: rank {commander['rank']} ({commander['missions']} missions)\")"
      ],
      "metadata": {
        "colab": {
          "base_uri": "https://localhost:8080/"
        },
        "id": "bjq8PTTOHh56",
        "outputId": "d45dfea6-3df4-4830-a32a-dde88aecedb5"
      },
      "execution_count": null,
      "outputs": [
        {
          "output_type": "stream",
          "name": "stdout",
          "text": [
            "=== COMMANDERS BY MISSION COUNT ===\n",
            "Rumi: 75 missions (rank 1)\n",
            "Mira: 50 missions (rank 2)\n",
            "Larzon: 35 missions (rank 5)\n",
            "Zara: 21 missions (rank 4)\n",
            "Xeron: 20 missions (rank 4)\n",
            "\n",
            "=== COMMANDERS BY RANK ===\n",
            "Rumi: rank 1 (75 missions)\n",
            "Mira: rank 2 (50 missions)\n",
            "Xeron: rank 4 (20 missions)\n",
            "Zara: rank 4 (21 missions)\n",
            "Larzon: rank 5 (35 missions)\n"
          ]
        }
      ]
    },
    {
      "cell_type": "markdown",
      "source": [
        "**Question 6:** The Resistance maintains hidden bases across the city. Each base is marked on a map by its (x, y) coordinates. Headquarters is located at (0, 0). In case of emergencies, bases closest to HQ will receive evacuation priority.\n",
        "\n",
        "Write a function calculate_distances(coords) that:\n",
        "\n",
        " - Calculates the Euclidean distance of each base from HQ.\n",
        "\n",
        " - Returns a dictionary mapping each coordinate to its distance, rounded to 2 decimals."
      ],
      "metadata": {
        "id": "90Nijs1KIZZ0"
      }
    },
    {
      "cell_type": "code",
      "source": [
        "coords = [(3, 4), (1, 1), (0, 5), (2, -2), (5, 7)]"
      ],
      "metadata": {
        "id": "qfOljsoEZ_BF"
      },
      "execution_count": null,
      "outputs": []
    },
    {
      "cell_type": "code",
      "source": [
        "# your code here\n",
        "import math\n",
        "\n",
        "def calculate_distances(coords):\n",
        "    \"\"\"\n",
        "    Calculates distance from each base to HQ at (0, 0).\n",
        "    Returns distances rounded to 2 decimal places.\n",
        "    \"\"\"\n",
        "    distances = {}\n",
        "\n",
        "    for coord in coords:\n",
        "        x = coord[0]\n",
        "        y = coord[1]\n",
        "\n",
        "        # Calculate distance using Pythagorean theorem\n",
        "        distance = math.sqrt(x * x + y * y)\n",
        "\n",
        "        # Round to 2 decimal places\n",
        "        distance = round(distance, 2)\n",
        "\n",
        "        distances[coord] = distance\n",
        "\n",
        "    return distances\n",
        "\n",
        "\n",
        "# Test the function\n",
        "coords = [(3, 4), (1, 1), (0, 5), (2, -2), (5, 7)]\n",
        "result = calculate_distances(coords)\n",
        "\n",
        "# Display results with trailing zeros\n",
        "print(\"Base distances from HQ:\")\n",
        "for coord, distance in result.items():\n",
        "    print(f\"{coord}: {distance:.2f}\")"
      ],
      "metadata": {
        "colab": {
          "base_uri": "https://localhost:8080/"
        },
        "id": "gnI1a0TFLoqh",
        "outputId": "2c900a14-fac1-4158-d760-d6e51731741b"
      },
      "execution_count": null,
      "outputs": [
        {
          "output_type": "stream",
          "name": "stdout",
          "text": [
            "Base distances from HQ:\n",
            "(3, 4): 5.00\n",
            "(1, 1): 1.41\n",
            "(0, 5): 5.00\n",
            "(2, -2): 2.83\n",
            "(5, 7): 8.60\n"
          ]
        }
      ]
    },
    {
      "cell_type": "markdown",
      "source": [
        "**Question 7:** The Resistance has secured safehouses with digital locks. To prevent alien infiltration, access codes must follow strict rules:\n",
        "\n",
        " - Must be exactly 8 characters long\n",
        "\n",
        " - The first 2 characters must be uppercase letters\n",
        "\n",
        " - The next 2 characters must be lowercase letters\n",
        "\n",
        " - The last 4 characters must be digits\n",
        "\n",
        "Write a regex that validates a list of access codes.\n",
        "\n",
        "\n",
        "P.S. Don't forget to import the re module"
      ],
      "metadata": {
        "id": "74iydRkwULOi"
      }
    },
    {
      "cell_type": "code",
      "source": [
        "codes = [\"ABcd1234\", \"ZZzz9999\", \"aaBB1234\", \"XYab5678\", \"QWoh9624\", \"koWT2613\"]"
      ],
      "metadata": {
        "id": "WcroHcC4VUaY"
      },
      "execution_count": null,
      "outputs": []
    },
    {
      "cell_type": "code",
      "source": [
        "# your code here\n",
        "import re\n",
        "\n",
        "# Access codes to validate\n",
        "codes = [\"ABcd1234\", \"ZZzz9999\", \"aaBB1234\", \"XYab5678\", \"QWoh9624\", \"koWT2613\"]\n",
        "\n",
        "# Regex pattern for valid access codes:\n",
        "# ^          - Start of string\n",
        "# [A-Z]{2}   - Exactly 2 uppercase letters\n",
        "# [a-z]{2}   - Exactly 2 lowercase letters\n",
        "# [0-9]{4}   - Exactly 4 digits\n",
        "# $          - End of string\n",
        "pattern = r'^[A-Z]{2}[a-z]{2}[0-9]{4}$'\n",
        "\n",
        "valid_codes = []\n",
        "\n",
        "for code in codes:\n",
        "    if re.match(pattern, code):\n",
        "        valid_codes.append(code)\n",
        "\n",
        "print(\"Valid IDs:\", valid_codes)"
      ],
      "metadata": {
        "colab": {
          "base_uri": "https://localhost:8080/"
        },
        "id": "_Gj97hjmVpGG",
        "outputId": "31d9740d-7f30-4c90-e149-9e16b2600957"
      },
      "execution_count": null,
      "outputs": [
        {
          "output_type": "stream",
          "name": "stdout",
          "text": [
            "Valid IDs: ['ABcd1234', 'ZZzz9999', 'XYab5678', 'QWoh9624']\n"
          ]
        }
      ]
    },
    {
      "cell_type": "markdown",
      "source": [
        "For a better understanding of Regular Expressions: https://realpython.com/regex-python/"
      ],
      "metadata": {
        "id": "ZlnxyGHm7z0J"
      }
    }
  ]
}